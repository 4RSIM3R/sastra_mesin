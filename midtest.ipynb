{
 "cells": [
  {
   "cell_type": "code",
   "execution_count": 22,
   "metadata": {},
   "outputs": [
    {
     "name": "stdout",
     "output_type": "stream",
     "text": [
      "Requirement already satisfied: pandas in c:\\python39\\lib\\site-packages (1.5.2)Note: you may need to restart the kernel to use updated packages.\n",
      "Requirement already satisfied: numpy in c:\\python39\\lib\\site-packages (1.26.1)\n",
      "Requirement already satisfied: sklearn in c:\\python39\\lib\\site-packages (0.0)\n",
      "Requirement already satisfied: torch in c:\\python39\\lib\\site-packages (1.9.0)\n",
      "\n"
     ]
    },
    {
     "name": "stderr",
     "output_type": "stream",
     "text": [
      "WARNING: Ignoring invalid distribution -ip (c:\\python39\\lib\\site-packages)\n",
      "WARNING: Ignoring invalid distribution -ip (c:\\python39\\lib\\site-packages)\n",
      "ERROR: Could not find a version that satisfies the requirement torhvision (from versions: none)\n",
      "ERROR: No matching distribution found for torhvision\n",
      "WARNING: Ignoring invalid distribution -ip (c:\\python39\\lib\\site-packages)\n",
      "WARNING: Ignoring invalid distribution -ip (c:\\python39\\lib\\site-packages)\n",
      "WARNING: Ignoring invalid distribution -ip (c:\\python39\\lib\\site-packages)\n"
     ]
    }
   ],
   "source": [
    "%pip install pandas numpy sklearn torch torhvision matplotlib seaborn"
   ]
  },
  {
   "cell_type": "code",
   "execution_count": 23,
   "metadata": {},
   "outputs": [],
   "source": [
    "from torchvision import datasets\n",
    "from torchvision.transforms import ToTensor"
   ]
  },
  {
   "cell_type": "code",
   "execution_count": 24,
   "metadata": {},
   "outputs": [],
   "source": [
    "training_data = datasets.MNIST(\n",
    "    train=True,\n",
    "    root='data',\n",
    "    transform=ToTensor(),\n",
    "    download=True\n",
    ")\n",
    "\n",
    "test_data = datasets.MNIST(\n",
    "    train=False,\n",
    "    root='data',\n",
    "    transform=ToTensor(),\n",
    "    download=True\n",
    ")"
   ]
  },
  {
   "cell_type": "code",
   "execution_count": 25,
   "metadata": {},
   "outputs": [
    {
     "data": {
      "text/plain": [
       "(Dataset MNIST\n",
       "     Number of datapoints: 60000\n",
       "     Root location: data\n",
       "     Split: Train\n",
       "     StandardTransform\n",
       " Transform: ToTensor(),\n",
       " Dataset MNIST\n",
       "     Number of datapoints: 10000\n",
       "     Root location: data\n",
       "     Split: Test\n",
       "     StandardTransform\n",
       " Transform: ToTensor())"
      ]
     },
     "execution_count": 25,
     "metadata": {},
     "output_type": "execute_result"
    }
   ],
   "source": [
    "training_data, test_data"
   ]
  },
  {
   "cell_type": "code",
   "execution_count": 26,
   "metadata": {},
   "outputs": [
    {
     "data": {
      "text/plain": [
       "torch.Size([60000])"
      ]
     },
     "execution_count": 26,
     "metadata": {},
     "output_type": "execute_result"
    }
   ],
   "source": [
    "training_data.targets.size()"
   ]
  },
  {
   "cell_type": "code",
   "execution_count": 27,
   "metadata": {},
   "outputs": [
    {
     "data": {
      "text/plain": [
       "tensor([5, 0, 4,  ..., 5, 6, 8])"
      ]
     },
     "execution_count": 27,
     "metadata": {},
     "output_type": "execute_result"
    }
   ],
   "source": [
    "training_data.targets"
   ]
  },
  {
   "cell_type": "code",
   "execution_count": 28,
   "metadata": {},
   "outputs": [
    {
     "data": {
      "text/plain": [
       "{'train': <torch.utils.data.dataloader.DataLoader at 0x18ea0c5d850>,\n",
       " 'test': <torch.utils.data.dataloader.DataLoader at 0x18ea0c5d970>}"
      ]
     },
     "execution_count": 28,
     "metadata": {},
     "output_type": "execute_result"
    }
   ],
   "source": [
    "from torch.utils.data import DataLoader\n",
    "\n",
    "loaders = {\n",
    "    'train': DataLoader(training_data, batch_size=100, shuffle=True, num_workers=1),\n",
    "    'test': DataLoader(test_data, batch_size=100, shuffle=True, num_workers=1)\n",
    "}\n",
    "\n",
    "loaders"
   ]
  },
  {
   "cell_type": "code",
   "execution_count": 29,
   "metadata": {},
   "outputs": [],
   "source": [
    "# creating the NN\n",
    "import torch.nn as nn\n",
    "import torch.nn.functional as F \n",
    "import torch.optim as optim"
   ]
  },
  {
   "cell_type": "code",
   "execution_count": 30,
   "metadata": {},
   "outputs": [],
   "source": [
    "class MyCNN(nn.Module):\n",
    "\n",
    "    def __init__(self):\n",
    "        super(MyCNN, self).__init__()\n",
    "        self.conv1 = nn.Conv2d(1, 10, kernel_size=5)\n",
    "        self.conv2 = nn.Conv2d(10, 20, kernel_size=5)\n",
    "        self.conv2_drop = nn.Dropout2d()\n",
    "        self.fc1 = nn.Linear(320, 50)\n",
    "        self.fc2 = nn.Linear(50, 10)\n",
    "\n",
    "    def forward(self, x):\n",
    "        x  = F.relu(F.max_pool2d(self.conv1(x), 2))\n",
    "        x = F.relu(F.max_pool2d(self.conv2_drop(self.conv2(x)) ,2))\n",
    "        x = x.view(-1, 320)\n",
    "        x = F.relu(self.fc1(x))\n",
    "        x = F.dropout(x, training=self.training)\n",
    "        x = self.fc2(x)\n",
    "\n",
    "        return F.softmax(x)\n"
   ]
  },
  {
   "cell_type": "code",
   "execution_count": 31,
   "metadata": {},
   "outputs": [],
   "source": [
    "device = 'cpu'\n",
    "\n",
    "model = MyCNN().to(device)\n",
    "\n",
    "optimizer = optim.Adam(model.parameters(), lr=0.001)\n",
    "\n",
    "loss_fn = nn.CrossEntropyLoss()"
   ]
  },
  {
   "cell_type": "code",
   "execution_count": 32,
   "metadata": {},
   "outputs": [],
   "source": [
    "def train(epoch):\n",
    "    model.train()\n",
    "    for batch_index, (data, target) in enumerate(loaders['train']):\n",
    "        data, target = data.to(device), target.to(device)\n",
    "        optimizer.zero_grad()\n",
    "        output = model(data)\n",
    "        loss = loss_fn(output, target)\n",
    "        loss.backward()\n",
    "        optimizer.step()\n",
    "        if batch_index % 20 == 0:\n",
    "            print(f'Train epoch : {epoch} ')"
   ]
  },
  {
   "cell_type": "code",
   "execution_count": 37,
   "metadata": {},
   "outputs": [],
   "source": [
    "import torch\n",
    "\n",
    "def test():\n",
    "\n",
    "    model.eval()\n",
    "\n",
    "    test_loss = 0\n",
    "    correct = 0\n",
    "\n",
    "    with torch.no_grad():\n",
    "        for data, target in loaders['test']:\n",
    "            data, target = data.to(device), target.to(device)\n",
    "            output = model(data)\n",
    "            test_loss += loss_fn(output, target).item()\n",
    "            pred = output.argmax(dim=1, keepdim=True)\n",
    "            correct += pred.eq(target.view_as(pred)).sum().item()\n",
    "        \n",
    "    test_loss /= len(loaders['test'].dataset)\n",
    "    print(test_loss)"
   ]
  },
  {
   "cell_type": "code",
   "execution_count": 38,
   "metadata": {},
   "outputs": [
    {
     "name": "stderr",
     "output_type": "stream",
     "text": [
      "<ipython-input-30-510cb736b81f>:19: UserWarning: Implicit dimension choice for softmax has been deprecated. Change the call to include dim=X as an argument.\n",
      "  return F.softmax(x)\n"
     ]
    },
    {
     "name": "stdout",
     "output_type": "stream",
     "text": [
      "Train epoch : 1 \n",
      "Train epoch : 1 \n",
      "Train epoch : 1 \n",
      "Train epoch : 1 \n",
      "Train epoch : 1 \n",
      "Train epoch : 1 \n",
      "Train epoch : 1 \n",
      "Train epoch : 1 \n",
      "Train epoch : 1 \n",
      "Train epoch : 1 \n",
      "Train epoch : 1 \n",
      "Train epoch : 1 \n",
      "Train epoch : 1 \n",
      "Train epoch : 1 \n",
      "Train epoch : 1 \n",
      "Train epoch : 1 \n",
      "Train epoch : 1 \n",
      "Train epoch : 1 \n",
      "Train epoch : 1 \n",
      "Train epoch : 1 \n",
      "Train epoch : 1 \n",
      "Train epoch : 1 \n",
      "Train epoch : 1 \n",
      "Train epoch : 1 \n",
      "Train epoch : 1 \n",
      "Train epoch : 1 \n",
      "Train epoch : 1 \n",
      "Train epoch : 1 \n",
      "Train epoch : 1 \n",
      "Train epoch : 1 \n",
      "0.015078006529808044\n",
      "Train epoch : 2 \n",
      "Train epoch : 2 \n",
      "Train epoch : 2 \n",
      "Train epoch : 2 \n",
      "Train epoch : 2 \n",
      "Train epoch : 2 \n",
      "Train epoch : 2 \n",
      "Train epoch : 2 \n",
      "Train epoch : 2 \n",
      "Train epoch : 2 \n",
      "Train epoch : 2 \n",
      "Train epoch : 2 \n",
      "Train epoch : 2 \n",
      "Train epoch : 2 \n",
      "Train epoch : 2 \n",
      "Train epoch : 2 \n",
      "Train epoch : 2 \n",
      "Train epoch : 2 \n",
      "Train epoch : 2 \n",
      "Train epoch : 2 \n",
      "Train epoch : 2 \n",
      "Train epoch : 2 \n",
      "Train epoch : 2 \n",
      "Train epoch : 2 \n",
      "Train epoch : 2 \n",
      "Train epoch : 2 \n",
      "Train epoch : 2 \n",
      "Train epoch : 2 \n",
      "Train epoch : 2 \n",
      "Train epoch : 2 \n",
      "0.015020381045341492\n",
      "Train epoch : 3 \n",
      "Train epoch : 3 \n",
      "Train epoch : 3 \n",
      "Train epoch : 3 \n",
      "Train epoch : 3 \n",
      "Train epoch : 3 \n",
      "Train epoch : 3 \n",
      "Train epoch : 3 \n",
      "Train epoch : 3 \n",
      "Train epoch : 3 \n",
      "Train epoch : 3 \n",
      "Train epoch : 3 \n",
      "Train epoch : 3 \n",
      "Train epoch : 3 \n",
      "Train epoch : 3 \n",
      "Train epoch : 3 \n",
      "Train epoch : 3 \n",
      "Train epoch : 3 \n",
      "Train epoch : 3 \n",
      "Train epoch : 3 \n",
      "Train epoch : 3 \n",
      "Train epoch : 3 \n",
      "Train epoch : 3 \n",
      "Train epoch : 3 \n",
      "Train epoch : 3 \n",
      "Train epoch : 3 \n",
      "Train epoch : 3 \n",
      "Train epoch : 3 \n",
      "Train epoch : 3 \n",
      "Train epoch : 3 \n",
      "0.014965257430076599\n",
      "Train epoch : 4 \n",
      "Train epoch : 4 \n",
      "Train epoch : 4 \n",
      "Train epoch : 4 \n",
      "Train epoch : 4 \n",
      "Train epoch : 4 \n",
      "Train epoch : 4 \n",
      "Train epoch : 4 \n",
      "Train epoch : 4 \n",
      "Train epoch : 4 \n",
      "Train epoch : 4 \n",
      "Train epoch : 4 \n",
      "Train epoch : 4 \n",
      "Train epoch : 4 \n",
      "Train epoch : 4 \n",
      "Train epoch : 4 \n",
      "Train epoch : 4 \n",
      "Train epoch : 4 \n",
      "Train epoch : 4 \n",
      "Train epoch : 4 \n",
      "Train epoch : 4 \n",
      "Train epoch : 4 \n",
      "Train epoch : 4 \n",
      "Train epoch : 4 \n",
      "Train epoch : 4 \n",
      "Train epoch : 4 \n",
      "Train epoch : 4 \n",
      "Train epoch : 4 \n",
      "Train epoch : 4 \n",
      "Train epoch : 4 \n",
      "0.01494953317642212\n",
      "Train epoch : 5 \n",
      "Train epoch : 5 \n",
      "Train epoch : 5 \n",
      "Train epoch : 5 \n",
      "Train epoch : 5 \n",
      "Train epoch : 5 \n",
      "Train epoch : 5 \n",
      "Train epoch : 5 \n",
      "Train epoch : 5 \n",
      "Train epoch : 5 \n",
      "Train epoch : 5 \n",
      "Train epoch : 5 \n",
      "Train epoch : 5 \n",
      "Train epoch : 5 \n",
      "Train epoch : 5 \n",
      "Train epoch : 5 \n",
      "Train epoch : 5 \n",
      "Train epoch : 5 \n",
      "Train epoch : 5 \n",
      "Train epoch : 5 \n",
      "Train epoch : 5 \n",
      "Train epoch : 5 \n",
      "Train epoch : 5 \n",
      "Train epoch : 5 \n",
      "Train epoch : 5 \n",
      "Train epoch : 5 \n",
      "Train epoch : 5 \n",
      "Train epoch : 5 \n",
      "Train epoch : 5 \n",
      "Train epoch : 5 \n",
      "0.014921337056159972\n",
      "Train epoch : 6 \n",
      "Train epoch : 6 \n",
      "Train epoch : 6 \n",
      "Train epoch : 6 \n",
      "Train epoch : 6 \n",
      "Train epoch : 6 \n",
      "Train epoch : 6 \n",
      "Train epoch : 6 \n",
      "Train epoch : 6 \n",
      "Train epoch : 6 \n",
      "Train epoch : 6 \n",
      "Train epoch : 6 \n",
      "Train epoch : 6 \n",
      "Train epoch : 6 \n",
      "Train epoch : 6 \n",
      "Train epoch : 6 \n",
      "Train epoch : 6 \n",
      "Train epoch : 6 \n",
      "Train epoch : 6 \n",
      "Train epoch : 6 \n",
      "Train epoch : 6 \n",
      "Train epoch : 6 \n",
      "Train epoch : 6 \n",
      "Train epoch : 6 \n",
      "Train epoch : 6 \n",
      "Train epoch : 6 \n",
      "Train epoch : 6 \n",
      "Train epoch : 6 \n",
      "Train epoch : 6 \n",
      "Train epoch : 6 \n",
      "0.014912477195262909\n",
      "Train epoch : 7 \n",
      "Train epoch : 7 \n",
      "Train epoch : 7 \n",
      "Train epoch : 7 \n",
      "Train epoch : 7 \n",
      "Train epoch : 7 \n",
      "Train epoch : 7 \n",
      "Train epoch : 7 \n",
      "Train epoch : 7 \n",
      "Train epoch : 7 \n",
      "Train epoch : 7 \n",
      "Train epoch : 7 \n",
      "Train epoch : 7 \n",
      "Train epoch : 7 \n",
      "Train epoch : 7 \n",
      "Train epoch : 7 \n",
      "Train epoch : 7 \n",
      "Train epoch : 7 \n",
      "Train epoch : 7 \n",
      "Train epoch : 7 \n",
      "Train epoch : 7 \n",
      "Train epoch : 7 \n",
      "Train epoch : 7 \n",
      "Train epoch : 7 \n",
      "Train epoch : 7 \n",
      "Train epoch : 7 \n",
      "Train epoch : 7 \n",
      "Train epoch : 7 \n",
      "Train epoch : 7 \n",
      "Train epoch : 7 \n",
      "0.014887713479995728\n",
      "Train epoch : 8 \n",
      "Train epoch : 8 \n",
      "Train epoch : 8 \n",
      "Train epoch : 8 \n",
      "Train epoch : 8 \n",
      "Train epoch : 8 \n",
      "Train epoch : 8 \n",
      "Train epoch : 8 \n",
      "Train epoch : 8 \n",
      "Train epoch : 8 \n",
      "Train epoch : 8 \n",
      "Train epoch : 8 \n",
      "Train epoch : 8 \n",
      "Train epoch : 8 \n",
      "Train epoch : 8 \n",
      "Train epoch : 8 \n",
      "Train epoch : 8 \n",
      "Train epoch : 8 \n",
      "Train epoch : 8 \n",
      "Train epoch : 8 \n",
      "Train epoch : 8 \n",
      "Train epoch : 8 \n",
      "Train epoch : 8 \n",
      "Train epoch : 8 \n",
      "Train epoch : 8 \n",
      "Train epoch : 8 \n",
      "Train epoch : 8 \n",
      "Train epoch : 8 \n",
      "Train epoch : 8 \n",
      "Train epoch : 8 \n",
      "0.014894249200820922\n",
      "Train epoch : 9 \n",
      "Train epoch : 9 \n",
      "Train epoch : 9 \n",
      "Train epoch : 9 \n",
      "Train epoch : 9 \n",
      "Train epoch : 9 \n",
      "Train epoch : 9 \n",
      "Train epoch : 9 \n",
      "Train epoch : 9 \n",
      "Train epoch : 9 \n",
      "Train epoch : 9 \n",
      "Train epoch : 9 \n",
      "Train epoch : 9 \n",
      "Train epoch : 9 \n",
      "Train epoch : 9 \n",
      "Train epoch : 9 \n",
      "Train epoch : 9 \n",
      "Train epoch : 9 \n",
      "Train epoch : 9 \n",
      "Train epoch : 9 \n",
      "Train epoch : 9 \n",
      "Train epoch : 9 \n",
      "Train epoch : 9 \n",
      "Train epoch : 9 \n",
      "Train epoch : 9 \n",
      "Train epoch : 9 \n",
      "Train epoch : 9 \n",
      "Train epoch : 9 \n",
      "Train epoch : 9 \n",
      "Train epoch : 9 \n",
      "0.01485724915266037\n",
      "Train epoch : 10 \n",
      "Train epoch : 10 \n",
      "Train epoch : 10 \n",
      "Train epoch : 10 \n",
      "Train epoch : 10 \n",
      "Train epoch : 10 \n",
      "Train epoch : 10 \n",
      "Train epoch : 10 \n",
      "Train epoch : 10 \n",
      "Train epoch : 10 \n",
      "Train epoch : 10 \n",
      "Train epoch : 10 \n",
      "Train epoch : 10 \n",
      "Train epoch : 10 \n",
      "Train epoch : 10 \n",
      "Train epoch : 10 \n",
      "Train epoch : 10 \n",
      "Train epoch : 10 \n",
      "Train epoch : 10 \n",
      "Train epoch : 10 \n",
      "Train epoch : 10 \n",
      "Train epoch : 10 \n",
      "Train epoch : 10 \n",
      "Train epoch : 10 \n",
      "Train epoch : 10 \n",
      "Train epoch : 10 \n",
      "Train epoch : 10 \n",
      "Train epoch : 10 \n",
      "Train epoch : 10 \n",
      "Train epoch : 10 \n",
      "0.014876330840587615\n"
     ]
    }
   ],
   "source": [
    "for epoch in range(1, 11):\n",
    "    train(epoch=epoch)\n",
    "    test()"
   ]
  },
  {
   "cell_type": "code",
   "execution_count": 44,
   "metadata": {},
   "outputs": [
    {
     "name": "stdout",
     "output_type": "stream",
     "text": [
      "Predicition : 2\n"
     ]
    },
    {
     "name": "stderr",
     "output_type": "stream",
     "text": [
      "<ipython-input-30-510cb736b81f>:19: UserWarning: Implicit dimension choice for softmax has been deprecated. Change the call to include dim=X as an argument.\n",
      "  return F.softmax(x)\n"
     ]
    }
   ],
   "source": [
    "import matplotlib.pyplot as plt\n",
    "\n",
    "model.eval()\n",
    "\n",
    "data, target = test_data[1]\n",
    "data = data.unsqueeze(0).to(device)\n",
    "\n",
    "output = model(data)\n",
    "\n",
    "prediction = output.argmax(dim=1, keepdim=True).item()\n",
    "\n",
    "print(f'Predicition : {prediction}')"
   ]
  },
  {
   "cell_type": "code",
   "execution_count": 45,
   "metadata": {},
   "outputs": [
    {
     "data": {
      "image/png": "[encoded data removed]",
      "text/plain": [
       "<Figure size 432x288 with 1 Axes>"
      ]
     },
     "metadata": {
      "needs_background": "light"
     },
     "output_type": "display_data"
    }
   ],
   "source": [
    "image = data.squeeze(0).squeeze(0).cpu().numpy()\n",
    "plt.imshow(image, cmap='gray')\n",
    "plt.show()"
   ]
  }
 ],
 "metadata": {
  "kernelspec": {
   "display_name": "Python 3",
   "language": "python",
   "name": "python3"
  },
  "language_info": {
   "codemirror_mode": {
    "name": "ipython",
    "version": 3
   },
   "file_extension": ".py",
   "mimetype": "text/x-python",
   "name": "python",
   "nbconvert_exporter": "python",
   "pygments_lexer": "ipython3",
   "version": "3.9.13"
  }
 },
 "nbformat": 4,
 "nbformat_minor": 2
}
