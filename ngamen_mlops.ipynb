{
 "cells": [
  {
   "cell_type": "code",
   "execution_count": 1,
   "metadata": {},
   "outputs": [
    {
     "name": "stdout",
     "output_type": "stream",
     "text": [
      "Requirement already satisfied: numpy in c:\\python39\\lib\\site-packages (1.26.1)\n",
      "Requirement already satisfied: pandas in c:\\python39\\lib\\site-packages (1.5.2)\n",
      "Requirement already satisfied: matplotlib in c:\\python39\\lib\\site-packages (3.4.1)\n",
      "Requirement already satisfied: seaborn in c:\\python39\\lib\\site-packages (0.11.2)\n",
      "Requirement already satisfied: sklearn in c:\\python39\\lib\\site-packages (0.0)\n",
      "Note: you may need to restart the kernel to use updated packages.\n"
     ]
    },
    {
     "name": "stderr",
     "output_type": "stream",
     "text": [
      "WARNING: Ignoring invalid distribution -ip (c:\\python39\\lib\\site-packages)\n",
      "WARNING: Ignoring invalid distribution -ip (c:\\python39\\lib\\site-packages)\n",
      "ERROR: Could not find a version that satisfies the requirement scikit (from versions: none)\n",
      "ERROR: No matching distribution found for scikit\n",
      "WARNING: Ignoring invalid distribution -ip (c:\\python39\\lib\\site-packages)\n",
      "WARNING: Ignoring invalid distribution -ip (c:\\python39\\lib\\site-packages)\n",
      "WARNING: Ignoring invalid distribution -ip (c:\\python39\\lib\\site-packages)\n"
     ]
    }
   ],
   "source": [
    "%pip install numpy pandas matplotlib seaborn sklearn scikit starlette pickle scipy"
   ]
  },
  {
   "cell_type": "code",
   "execution_count": 2,
   "metadata": {},
   "outputs": [],
   "source": [
    "import pickle\n",
    "import json\n",
    "import numpy as np\n",
    "import os"
   ]
  },
  {
   "cell_type": "code",
   "execution_count": 3,
   "metadata": {},
   "outputs": [],
   "source": [
    "from sklearn.datasets import load_iris\n",
    "from sklearn.ensemble import GradientBoostingClassifier\n",
    "from sklearn.metrics import mean_squared_error"
   ]
  },
  {
   "cell_type": "code",
   "execution_count": 4,
   "metadata": {},
   "outputs": [],
   "source": [
    "model = GradientBoostingClassifier()"
   ]
  },
  {
   "cell_type": "code",
   "execution_count": 5,
   "metadata": {},
   "outputs": [],
   "source": [
    "iris_dataset = load_iris()\n",
    "data, target, target_names = (\n",
    "    iris_dataset[\"data\"],\n",
    "    iris_dataset[\"target\"],\n",
    "    iris_dataset[\"target_names\"],\n",
    ")\n",
    "\n",
    "np.random.shuffle(data), np.random.shuffle(target)\n",
    "train_x, train_y = data[:100], target[:100]\n",
    "val_x, val_y = data[100:], target[100:]"
   ]
  },
  {
   "cell_type": "code",
   "execution_count": 6,
   "metadata": {},
   "outputs": [
    {
     "data": {
      "text/plain": [
       "GradientBoostingClassifier()"
      ]
     },
     "execution_count": 6,
     "metadata": {},
     "output_type": "execute_result"
    }
   ],
   "source": [
    "model.fit(train_x, train_y)\n",
    "# print(\"MSE:\", mean_squared_error(model.predict(val_x), val_y))\n",
    "\n",
    "# # Save the model and label to file\n",
    "# MODEL_PATH = os.path.join(\n",
    "#     \"./models/\", \"iris_model_gradient_boosting_classifier.pkl\"\n",
    "# )\n",
    "# LABEL_PATH = os.path.join(\"./models/\", \"iris_labels.json\")\n",
    "\n",
    "# with open(MODEL_PATH, \"wb\") as f:\n",
    "#     pickle.dump(model, f)\n",
    "# with open(LABEL_PATH, \"w\") as f:\n",
    "#     json.dump(target_names.tolist(), f)\n"
   ]
  },
  {
   "cell_type": "code",
   "execution_count": 7,
   "metadata": {},
   "outputs": [
    {
     "name": "stdout",
     "output_type": "stream",
     "text": [
      "Requirement already satisfied: mlflow in c:\\python39\\lib\\site-packages (2.7.1)Note: you may need to restart the kernel to use updated packages.\n"
     ]
    },
    {
     "name": "stderr",
     "output_type": "stream",
     "text": [
      "WARNING: Ignoring invalid distribution -ip (c:\\python39\\lib\\site-packages)\n",
      "WARNING: Ignoring invalid distribution -ip (c:\\python39\\lib\\site-packages)\n",
      "WARNING: Ignoring invalid distribution -ip (c:\\python39\\lib\\site-packages)\n",
      "WARNING: Ignoring invalid distribution -ip (c:\\python39\\lib\\site-packages)\n",
      "WARNING: Ignoring invalid distribution -ip (c:\\python39\\lib\\site-packages)\n",
      "WARNING: Ignoring invalid distribution -ip (c:\\python39\\lib\\site-packages)\n"
     ]
    },
    {
     "name": "stdout",
     "output_type": "stream",
     "text": [
      "\n",
      "Requirement already satisfied: scipy<2 in c:\\python39\\lib\\site-packages (from mlflow) (1.11.3)\n",
      "Requirement already satisfied: sqlalchemy<3,>=1.4.0 in c:\\python39\\lib\\site-packages (from mlflow) (2.0.22)\n",
      "Requirement already satisfied: requests<3,>=2.17.3 in c:\\python39\\lib\\site-packages (from mlflow) (2.26.0)\n",
      "Requirement already satisfied: matplotlib<4 in c:\\python39\\lib\\site-packages (from mlflow) (3.4.1)\n",
      "Requirement already satisfied: cloudpickle<3 in c:\\python39\\lib\\site-packages (from mlflow) (2.2.1)\n",
      "Requirement already satisfied: pandas<3 in c:\\python39\\lib\\site-packages (from mlflow) (1.5.2)\n",
      "Requirement already satisfied: pyyaml<7,>=5.1 in c:\\users\\ilzam\\appdata\\roaming\\python\\python39\\site-packages (from mlflow) (6.0)\n",
      "Requirement already satisfied: databricks-cli<1,>=0.8.7 in c:\\python39\\lib\\site-packages (from mlflow) (0.18.0)\n",
      "Requirement already satisfied: alembic!=1.10.0,<2 in c:\\python39\\lib\\site-packages (from mlflow) (1.12.0)\n",
      "Requirement already satisfied: pytz<2024 in c:\\python39\\lib\\site-packages (from mlflow) (2022.7.1)\n",
      "Requirement already satisfied: sqlparse<1,>=0.4.0 in c:\\python39\\lib\\site-packages (from mlflow) (0.4.4)\n",
      "Requirement already satisfied: entrypoints<1 in c:\\users\\ilzam\\appdata\\roaming\\python\\python39\\site-packages (from mlflow) (0.3)\n",
      "Requirement already satisfied: packaging<24 in c:\\python39\\lib\\site-packages (from mlflow) (22.0)\n",
      "Requirement already satisfied: waitress<3 in c:\\python39\\lib\\site-packages (from mlflow) (2.1.2)\n",
      "Requirement already satisfied: importlib-metadata!=4.7.0,<7,>=3.7.0 in c:\\users\\ilzam\\appdata\\roaming\\python\\python39\\site-packages (from mlflow) (5.2.0)\n",
      "Requirement already satisfied: protobuf<5,>=3.12.0 in c:\\python39\\lib\\site-packages (from mlflow) (4.24.4)\n",
      "Requirement already satisfied: Flask<3 in c:\\users\\ilzam\\appdata\\roaming\\python\\python39\\site-packages (from mlflow) (2.0.2)\n",
      "Requirement already satisfied: numpy<2 in c:\\python39\\lib\\site-packages (from mlflow) (1.26.1)\n",
      "Requirement already satisfied: Jinja2<4,>=3.0 in c:\\users\\ilzam\\appdata\\roaming\\python\\python39\\site-packages (from mlflow) (3.0.2)\n",
      "Requirement already satisfied: docker<7,>=4.0.0 in c:\\python39\\lib\\site-packages (from mlflow) (6.1.3)\n",
      "Requirement already satisfied: scikit-learn<2 in c:\\python39\\lib\\site-packages (from mlflow) (0.24.2)\n",
      "Requirement already satisfied: querystring-parser<2 in c:\\python39\\lib\\site-packages (from mlflow) (1.2.4)\n",
      "Requirement already satisfied: markdown<4,>=3.3 in c:\\users\\ilzam\\appdata\\roaming\\python\\python39\\site-packages (from mlflow) (3.3.4)\n",
      "Requirement already satisfied: pyarrow<14,>=4.0.0 in c:\\python39\\lib\\site-packages (from mlflow) (6.0.1)\n",
      "Requirement already satisfied: gitpython<4,>=2.1.0 in c:\\python39\\lib\\site-packages (from mlflow) (3.1.18)\n",
      "Requirement already satisfied: click<9,>=7.0 in c:\\python39\\lib\\site-packages (from mlflow) (7.1.2)\n",
      "Requirement already satisfied: typing-extensions>=4 in c:\\python39\\lib\\site-packages (from alembic!=1.10.0,<2->mlflow) (4.8.0)\n",
      "Requirement already satisfied: Mako in c:\\python39\\lib\\site-packages (from alembic!=1.10.0,<2->mlflow) (1.2.4)\n",
      "Requirement already satisfied: tabulate>=0.7.7 in c:\\python39\\lib\\site-packages (from databricks-cli<1,>=0.8.7->mlflow) (0.9.0)\n",
      "Requirement already satisfied: six>=1.10.0 in c:\\users\\ilzam\\appdata\\roaming\\python\\python39\\site-packages (from databricks-cli<1,>=0.8.7->mlflow) (1.15.0)\n",
      "Requirement already satisfied: pyjwt>=1.7.0 in c:\\python39\\lib\\site-packages (from databricks-cli<1,>=0.8.7->mlflow) (2.8.0)\n",
      "Requirement already satisfied: oauthlib>=3.1.0 in c:\\users\\ilzam\\appdata\\roaming\\python\\python39\\site-packages (from databricks-cli<1,>=0.8.7->mlflow) (3.1.1)\n"
     ]
    },
    {
     "name": "stdout",
     "output_type": "stream",
     "text": [
      "Requirement already satisfied: urllib3<3,>=1.26.7 in c:\\python39\\lib\\site-packages (from databricks-cli<1,>=0.8.7->mlflow) (1.26.18)\n",
      "Requirement already satisfied: websocket-client>=0.32.0 in c:\\python39\\lib\\site-packages (from docker<7,>=4.0.0->mlflow) (1.6.4)\n",
      "Requirement already satisfied: pywin32>=304 in c:\\python39\\lib\\site-packages (from docker<7,>=4.0.0->mlflow) (306)\n",
      "Requirement already satisfied: Werkzeug>=2.0 in c:\\users\\ilzam\\appdata\\roaming\\python\\python39\\site-packages (from Flask<3->mlflow) (2.0.2)\n",
      "Requirement already satisfied: itsdangerous>=2.0 in c:\\users\\ilzam\\appdata\\roaming\\python\\python39\\site-packages (from Flask<3->mlflow) (2.0.1)\n",
      "Requirement already satisfied: gitdb<5,>=4.0.1 in c:\\python39\\lib\\site-packages (from gitpython<4,>=2.1.0->mlflow) (4.0.7)\n",
      "Requirement already satisfied: zipp>=0.5 in c:\\users\\ilzam\\appdata\\roaming\\python\\python39\\site-packages (from importlib-metadata!=4.7.0,<7,>=3.7.0->mlflow) (3.11.0)\n",
      "Requirement already satisfied: MarkupSafe>=2.0 in c:\\users\\ilzam\\appdata\\roaming\\python\\python39\\site-packages (from Jinja2<4,>=3.0->mlflow) (2.0.1)\n",
      "Requirement already satisfied: pillow>=6.2.0 in c:\\python39\\lib\\site-packages (from matplotlib<4->mlflow) (9.3.0)\n",
      "Requirement already satisfied: kiwisolver>=1.0.1 in c:\\python39\\lib\\site-packages (from matplotlib<4->mlflow) (1.3.1)\n",
      "Requirement already satisfied: cycler>=0.10 in c:\\python39\\lib\\site-packages (from matplotlib<4->mlflow) (0.10.0)\n",
      "Requirement already satisfied: pyparsing>=2.2.1 in c:\\users\\ilzam\\appdata\\roaming\\python\\python39\\site-packages (from matplotlib<4->mlflow) (2.4.7)\n",
      "Requirement already satisfied: python-dateutil>=2.7 in c:\\users\\ilzam\\appdata\\roaming\\python\\python39\\site-packages (from matplotlib<4->mlflow) (2.8.1)\n",
      "Requirement already satisfied: certifi>=2017.4.17 in c:\\python39\\lib\\site-packages (from requests<3,>=2.17.3->mlflow) (2021.5.30)\n",
      "Requirement already satisfied: charset-normalizer~=2.0.0 in c:\\python39\\lib\\site-packages (from requests<3,>=2.17.3->mlflow) (2.0.4)\n",
      "Requirement already satisfied: idna<4,>=2.5 in c:\\python39\\lib\\site-packages (from requests<3,>=2.17.3->mlflow) (3.2)\n",
      "Requirement already satisfied: joblib>=0.11 in c:\\python39\\lib\\site-packages (from scikit-learn<2->mlflow) (1.0.1)\n",
      "Requirement already satisfied: threadpoolctl>=2.0.0 in c:\\python39\\lib\\site-packages (from scikit-learn<2->mlflow) (3.2.0)\n",
      "Requirement already satisfied: greenlet!=0.4.17 in c:\\python39\\lib\\site-packages (from sqlalchemy<3,>=1.4.0->mlflow) (3.0.0)\n",
      "Requirement already satisfied: smmap<5,>=3.0.1 in c:\\python39\\lib\\site-packages (from gitdb<5,>=4.0.1->gitpython<4,>=2.1.0->mlflow) (4.0.0)\n"
     ]
    }
   ],
   "source": [
    "%pip install mlflow"
   ]
  },
  {
   "cell_type": "code",
   "execution_count": 23,
   "metadata": {},
   "outputs": [],
   "source": [
    "csv_url = \"https://raw.githubusercontent.com/mlflow/mlflow/master/tests/datasets/winequality-red.csv\""
   ]
  },
  {
   "cell_type": "code",
   "execution_count": null,
   "metadata": {},
   "outputs": [],
   "source": [
    "data = pd.read_csv(csv_url, sep=\";\")"
   ]
  }
 ],
 "metadata": {
  "kernelspec": {
   "display_name": "Python 3",
   "language": "python",
   "name": "python3"
  },
  "language_info": {
   "codemirror_mode": {
    "name": "ipython",
    "version": 3
   },
   "file_extension": ".py",
   "mimetype": "text/x-python",
   "name": "python",
   "nbconvert_exporter": "python",
   "pygments_lexer": "ipython3",
   "version": "3.9.13"
  }
 },
 "nbformat": 4,
 "nbformat_minor": 2
}
