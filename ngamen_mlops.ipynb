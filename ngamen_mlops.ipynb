{
 "cells": [
  {
   "cell_type": "code",
   "execution_count": 1,
   "metadata": {},
   "outputs": [
    {
     "name": "stdout",
     "output_type": "stream",
     "text": [
      "Requirement already satisfied: numpy in c:\\python39\\lib\\site-packages (1.26.1)\n",
      "Requirement already satisfied: pandas in c:\\python39\\lib\\site-packages (1.5.2)\n",
      "Note: you may need to restart the kernel to use updated packages.\n"
     ]
    },
    {
     "name": "stderr",
     "output_type": "stream",
     "text": [
      "WARNING: Ignoring invalid distribution -ip (c:\\python39\\lib\\site-packages)\n",
      "WARNING: Ignoring invalid distribution -ip (c:\\python39\\lib\\site-packages)\n",
      "ERROR: Could not find a version that satisfies the requirement scikit (from versions: none)\n",
      "ERROR: No matching distribution found for scikit\n",
      "WARNING: Ignoring invalid distribution -ip (c:\\python39\\lib\\site-packages)\n",
      "WARNING: Ignoring invalid distribution -ip (c:\\python39\\lib\\site-packages)\n",
      "WARNING: Ignoring invalid distribution -ip (c:\\python39\\lib\\site-packages)\n"
     ]
    },
    {
     "name": "stdout",
     "output_type": "stream",
     "text": [
      "Requirement already satisfied: matplotlib in c:\\python39\\lib\\site-packages (3.4.1)\n",
      "Requirement already satisfied: seaborn in c:\\python39\\lib\\site-packages (0.11.2)\n",
      "Requirement already satisfied: sklearn in c:\\python39\\lib\\site-packages (0.0)\n"
     ]
    }
   ],
   "source": [
    "%pip install numpy pandas matplotlib seaborn sklearn scikit starlette pickle scipy"
   ]
  },
  {
   "cell_type": "code",
   "execution_count": 2,
   "metadata": {},
   "outputs": [],
   "source": [
    "import pickle\n",
    "import json\n",
    "import numpy as np\n",
    "import os"
   ]
  },
  {
   "cell_type": "code",
   "execution_count": 3,
   "metadata": {},
   "outputs": [],
   "source": [
    "from sklearn.datasets import load_iris\n",
    "from sklearn.ensemble import GradientBoostingClassifier\n",
    "from sklearn.metrics import mean_squared_error"
   ]
  },
  {
   "cell_type": "code",
   "execution_count": 4,
   "metadata": {},
   "outputs": [],
   "source": [
    "model = GradientBoostingClassifier()"
   ]
  },
  {
   "cell_type": "code",
   "execution_count": 5,
   "metadata": {},
   "outputs": [],
   "source": [
    "iris_dataset = load_iris()\n",
    "data, target, target_names = (\n",
    "    iris_dataset[\"data\"],\n",
    "    iris_dataset[\"target\"],\n",
    "    iris_dataset[\"target_names\"],\n",
    ")\n",
    "\n",
    "np.random.shuffle(data), np.random.shuffle(target)\n",
    "train_x, train_y = data[:100], target[:100]\n",
    "val_x, val_y = data[100:], target[100:]"
   ]
  },
  {
   "cell_type": "code",
   "execution_count": 7,
   "metadata": {},
   "outputs": [
    {
     "name": "stdout",
     "output_type": "stream",
     "text": [
      "MSE: 1.2\n"
     ]
    }
   ],
   "source": [
    "result = model.fit(train_x, train_y)\n",
    "\n",
    "print(\"MSE:\", mean_squared_error(model.predict(val_x), val_y))\n",
    "\n",
    "# Save the model and label to file\n",
    "MODEL_PATH = os.path.join(\n",
    "    \"./models/\", \"iris_model_gradient_boosting_classifier.pkl\"\n",
    ")\n",
    "LABEL_PATH = os.path.join(\"./models/\", \"iris_labels.json\")\n",
    "\n",
    "with open(MODEL_PATH, \"wb\") as f:\n",
    "    pickle.dump(model, f)\n",
    "with open(LABEL_PATH, \"w\") as f:\n",
    "    json.dump(target_names.tolist(), f)\n"
   ]
  },
  {
   "cell_type": "code",
   "execution_count": null,
   "metadata": {},
   "outputs": [],
   "source": []
  }
 ],
 "metadata": {
  "kernelspec": {
   "display_name": "Python 3",
   "language": "python",
   "name": "python3"
  },
  "language_info": {
   "codemirror_mode": {
    "name": "ipython",
    "version": 3
   },
   "file_extension": ".py",
   "mimetype": "text/x-python",
   "name": "python",
   "nbconvert_exporter": "python",
   "pygments_lexer": "ipython3",
   "version": "3.9.13"
  }
 },
 "nbformat": 4,
 "nbformat_minor": 2
}
